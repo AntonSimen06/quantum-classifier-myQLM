{
 "cells": [
  {
   "cell_type": "markdown",
   "metadata": {},
   "source": [
    "# Multiclass Variational Quantum Classifier"
   ]
  },
  {
   "cell_type": "code",
   "execution_count": 57,
   "metadata": {},
   "outputs": [],
   "source": [
    "import pandas as pd\n",
    "import numpy as np\n",
    "from sklearn import preprocessing\n",
    "from sklearn.model_selection import train_test_split\n",
    "\n",
    "#myqlm\n",
    "from qat.lang.AQASM import Program, H, RX, RY, RZ, Z, CNOT\n",
    "from qat.lang.AQASM import *\n",
    "from qat.qpus import get_default_qpu\n",
    "from qat.core import Observable, Term\n",
    "from qat.plugins import ScipyMinimizePlugin\n",
    "\n",
    "#imports\n",
    "import ipynb\n",
    "import import_ipynb\n",
    "from vqc_functions import data_embedding, ansatz"
   ]
  },
  {
   "cell_type": "markdown",
   "metadata": {},
   "source": [
    "## Data importing and preprocessing\n",
    "\n",
    "MinMax with feature range from $0$ to $2\\pi$."
   ]
  },
  {
   "cell_type": "code",
   "execution_count": 58,
   "metadata": {},
   "outputs": [],
   "source": [
    "data = pd.read_csv(r'C:\\\\Users\\\\anton.albino\\\\Documents\\\\Anton\\\\codigos\\\\myqlm\\\\qnn\\\\data\\\\iris.data')\n",
    "label = data.iloc[:, -1]\n",
    "features = data.iloc[:, :-1]"
   ]
  },
  {
   "cell_type": "code",
   "execution_count": 59,
   "metadata": {},
   "outputs": [],
   "source": [
    "x = features.values #returns a numpy array\n",
    "#data normalization (angles from 0 to 2pi)\n",
    "min_max_scaler = preprocessing.MinMaxScaler(feature_range=(0, 2*np.pi))\n",
    "x_scaled = min_max_scaler.fit_transform(x)\n",
    "features = pd.DataFrame(x_scaled)\n",
    "data = features.assign(labels = label)\n",
    "\n",
    "#spliting data\n",
    "training_data, testing_data = train_test_split(data, test_size=0.2, random_state=25)\n",
    "training_features = training_data.iloc[:, :-1]\n",
    "training_labels = training_data.iloc[:, -1]\n",
    "testing_features = testing_data.iloc[:, :-1]\n",
    "testing_labels = testing_data.iloc[:, -1]"
   ]
  },
  {
   "cell_type": "markdown",
   "metadata": {},
   "source": [
    "### Superposition for OneHot and TwoHot encoding\n",
    "\n",
    "Encoding labels into quantum states in superposition in a following basis settings:\n",
    "\n",
    "$\\{|0010\\rangle, |0011\\rangle, |0100\\rangle \\}$ encoding Iris-setosa.\n",
    "\n",
    "\n",
    "\n",
    "$\\{|0101\\rangle, |0110\\rangle, |0111\\rangle \\}$ encoding Iris-versicolor.\n",
    "\n",
    "\n",
    "\n",
    "$\\{|1000\\rangle, |1001\\rangle, |1010\\rangle \\}$ encoding Iris-virginica."
   ]
  },
  {
   "cell_type": "code",
   "execution_count": 60,
   "metadata": {},
   "outputs": [],
   "source": [
    "twohotencoding_training = []\n",
    "for i, iris in enumerate(training_labels):\n",
    "    if iris == \"Iris-setosa\":\n",
    "        twohotencoding_training.append(3)\n",
    "    elif iris == \"Iris-versicolor\":\n",
    "        twohotencoding_training.append(6)\n",
    "    elif iris == \"Iris-virginica\":\n",
    "        twohotencoding_training.append(9)\n",
    "\n",
    "twohotencoding_testing = []\n",
    "for i, iris in enumerate(testing_labels):\n",
    "    if iris == \"Iris-setosa\":\n",
    "        twohotencoding_testing.append(3)\n",
    "    elif iris == \"Iris-versicolor\":\n",
    "        twohotencoding_testing.append(6)\n",
    "    elif iris == \"Iris-virginica\":\n",
    "        twohotencoding_testing.append(9)"
   ]
  },
  {
   "cell_type": "markdown",
   "metadata": {},
   "source": [
    "## Loss function\n",
    "\n",
    "Loss function used to training the QNN was the mean squared error (MSE) so that the estimator $\\hat{x} = \\hat{p}_{|x\\rangle}$ is compared with label $p_{|x\\rangle} = 1$ since as many as $\\hat{x} \\approx 1$ will minimize the MSE. Therefore, we can write the loss function as\n",
    "\n",
    "$$\\mathcal{L} = \\frac{1}{N}\\sum_{k=0}^{N}(\\hat{p}_{|x\\rangle} -1)^2$$"
   ]
  },
  {
   "cell_type": "code",
   "execution_count": 61,
   "metadata": {},
   "outputs": [],
   "source": [
    "num_layers = 7; num_qubits = (features.shape[1]); num_labels = 3\n",
    "\n",
    "def loss(parameters):\n",
    "    \"\"\"\n",
    "    Args\n",
    "        parameters: a np.array for tunable parameters;\n",
    "    Outpu\n",
    "        cost/len(training_data): mean squared error;\n",
    "        \n",
    "    \"\"\"\n",
    "    \n",
    "    cost=0\n",
    "    for k in range(len(training_features)):\n",
    "        v = training_features.iloc[k,:].to_numpy()\n",
    "\n",
    "        #create program\n",
    "        circuit = Program()\n",
    "        qbits = circuit.qalloc(len(v))\n",
    "\n",
    "        #create subcircuits\n",
    "        encoding = data_embedding(x=v)\n",
    "        variational = ansatz(parameters, feature_len=len(v), num_layers=num_layers)\n",
    "\n",
    "        #adding subcircuits into main circuit\n",
    "        encoding(qbits)\n",
    "        variational(qbits)\n",
    "\n",
    "        qc = circuit.to_circ()\n",
    "        job = qc.to_job()\n",
    "        result = get_default_qpu().submit(job)\n",
    "\n",
    "        meas = {}\n",
    "        for sample in result:\n",
    "            #sample._state returns quantum state in the decimal basis\n",
    "            meas[sample._state] = sample.probability\n",
    "        \n",
    "        estimator_0 = meas[2]+meas[3]+meas[4]\n",
    "        estimator_1 = meas[5]+meas[6]+meas[7]\n",
    "        estimator_2 = meas[8]+meas[9]+meas[10]\n",
    "\n",
    "        #calculating cost\n",
    "        if twohotencoding_training[k] not in meas:\n",
    "            meas[twohotencoding_training[k]]=0\n",
    "        else:\n",
    "            if twohotencoding_training[k]==3:\n",
    "                cost -= np.log10(estimator_0)\n",
    "            elif twohotencoding_training[k]==6:\n",
    "                cost -= np.log10(estimator_1) \n",
    "            elif twohotencoding_training[k]==9:\n",
    "                cost -= np.log10(estimator_2)\n",
    "        \n",
    "    return cost/len(training_features) #Mean squared error / Empirical Risk / Log Loss\n"
   ]
  },
  {
   "cell_type": "markdown",
   "metadata": {},
   "source": [
    "## Training "
   ]
  },
  {
   "cell_type": "code",
   "execution_count": 62,
   "metadata": {},
   "outputs": [
    {
     "name": "stdout",
     "output_type": "stream",
     "text": [
      "Iteration:  1  \t Loss:  0.514197385646936\n",
      "Iteration:  2  \t Loss:  0.4248225007631388\n",
      "Iteration:  3  \t Loss:  0.3902522463634833\n",
      "Iteration:  4  \t Loss:  0.3442199293864981\n",
      "Iteration:  5  \t Loss:  0.3328687586830843\n",
      "Iteration:  6  \t Loss:  0.3099276763490532\n",
      "Iteration:  7  \t Loss:  0.305379313738272\n",
      "Iteration:  8  \t Loss:  0.2980984931750361\n",
      "Iteration:  9  \t Loss:  0.29401995883457566\n",
      "Iteration:  10  \t Loss:  0.28763974570425466\n",
      "Iteration:  11  \t Loss:  0.28356944468629125\n",
      "Iteration:  12  \t Loss:  0.27719184593854573\n",
      "Iteration:  13  \t Loss:  0.27317440246091007\n",
      "Iteration:  14  \t Loss:  0.26852117297203837\n",
      "Iteration:  15  \t Loss:  0.26659839293568965\n",
      "Iteration:  16  \t Loss:  0.26530309842452354\n",
      "Iteration:  17  \t Loss:  0.2642732719963488\n",
      "Iteration:  18  \t Loss:  0.26341138757524823\n",
      "Iteration:  19  \t Loss:  0.2624999131161802\n",
      "Iteration:  20  \t Loss:  0.26200426963943857\n",
      "Iteration:  21  \t Loss:  0.2613190558201868\n",
      "Iteration:  22  \t Loss:  0.26087114097706343\n",
      "Iteration:  23  \t Loss:  0.26029357092581107\n",
      "Iteration:  24  \t Loss:  0.25979890649858406\n",
      "Iteration:  25  \t Loss:  0.25929347429670624\n",
      "Iteration:  26  \t Loss:  0.25875928637233186\n",
      "Iteration:  27  \t Loss:  0.2578048145548381\n",
      "Iteration:  28  \t Loss:  0.25818050171078477\n",
      "Iteration:  29  \t Loss:  0.2560348498921985\n",
      "Iteration:  30  \t Loss:  0.25471842655509724\n",
      "Iteration:  31  \t Loss:  0.2533164190466205\n",
      "Iteration:  32  \t Loss:  0.25086599931836334\n",
      "Iteration:  33  \t Loss:  0.24837591395653297\n",
      "Iteration:  34  \t Loss:  0.24620809778762281\n",
      "Iteration:  35  \t Loss:  0.2430872610589883\n",
      "Iteration:  36  \t Loss:  0.24113845023237604\n",
      "Iteration:  37  \t Loss:  0.23992531316454668\n",
      "Iteration:  38  \t Loss:  0.2389080567655834\n",
      "Iteration:  39  \t Loss:  0.2381181608127788\n",
      "Iteration:  40  \t Loss:  0.23671870548522467\n",
      "Iteration:  41  \t Loss:  0.23502659709274762\n",
      "Iteration:  42  \t Loss:  0.23390583264465215\n",
      "Iteration:  43  \t Loss:  0.23220807208302838\n",
      "Iteration:  44  \t Loss:  0.23135737258815564\n",
      "Iteration:  45  \t Loss:  0.23058208760842225\n",
      "Iteration:  46  \t Loss:  0.23022479118559075\n",
      "Iteration:  47  \t Loss:  0.22989584690599799\n",
      "Iteration:  48  \t Loss:  0.22962414873818238\n",
      "Iteration:  49  \t Loss:  0.2292995778922775\n",
      "Iteration:  50  \t Loss:  0.2290826815445435\n",
      "Iteration:  51  \t Loss:  0.22898397584263194\n",
      "Iteration:  52  \t Loss:  0.22892845252028293\n",
      "Iteration:  53  \t Loss:  0.22889366815411033\n",
      "Iteration:  54  \t Loss:  0.22887240609649254\n",
      "Iteration:  55  \t Loss:  0.22885494212267338\n",
      "Iteration:  56  \t Loss:  0.22883943387000816\n",
      "Iteration:  57  \t Loss:  0.228826876979064\n",
      "Iteration:  58  \t Loss:  0.22881902704804416\n",
      "Iteration:  59  \t Loss:  0.22881485426914688\n",
      "Iteration:  60  \t Loss:  0.2288128118074654\n",
      "Iteration:  61  \t Loss:  0.22881173870365912\n",
      "Iteration:  62  \t Loss:  0.22881173870365912\n",
      "Optimization terminated successfully    (Exit mode 0)\n",
      "            Current function value: 0.22881173870365912\n",
      "            Iterations: 62\n",
      "            Function evaluations: 1799\n",
      "            Gradient evaluations: 62\n"
     ]
    },
    {
     "data": {
      "text/plain": [
       "     fun: 0.22881173870365912\n",
       "     jac: array([ 2.91205943e-05,  2.65371054e-05,  8.32956284e-05, -7.61654228e-05,\n",
       "        5.80903143e-05,  6.66324049e-05,  7.82702118e-05, -1.28997490e-04,\n",
       "       -2.33862549e-04, -7.42077827e-06, -4.61824238e-05,  1.39184296e-04,\n",
       "        2.74559483e-04,  1.55126676e-04, -4.47090715e-05, -2.07683071e-04,\n",
       "       -3.13110650e-06,  2.19741836e-04, -1.50641426e-04, -6.24731183e-05,\n",
       "       -8.64583999e-05,  8.33310187e-05, -1.50823966e-04,  7.84546137e-06,\n",
       "        6.99069351e-05, -5.79096377e-06,  1.21982768e-04,  8.10790807e-05])\n",
       " message: 'Optimization terminated successfully'\n",
       "    nfev: 1799\n",
       "     nit: 62\n",
       "    njev: 62\n",
       "  status: 0\n",
       " success: True\n",
       "       x: array([ 4.66972324,  5.05245461,  4.86507036,  2.53000282,  0.16344094,\n",
       "        6.3613027 ,  1.08798206,  5.33887251,  6.32473532,  3.67532922,\n",
       "        2.31534234,  4.8069833 ,  3.65228908,  4.87413925,  2.90179019,\n",
       "        4.25077151,  4.63765451,  4.80049247,  3.64947588,  1.88123603,\n",
       "       -0.03766053,  4.28838415,  2.66960012,  1.81689564,  1.25833087,\n",
       "        1.933868  ,  6.08089948,  5.78534779])"
      ]
     },
     "execution_count": 62,
     "metadata": {},
     "output_type": "execute_result"
    }
   ],
   "source": [
    "import scipy\n",
    "from scipy.optimize import minimize\n",
    "\n",
    "iteration=1\n",
    "convergence = []\n",
    "def callback(variational_parameters):\n",
    "    global iteration\n",
    "    convergence.append(loss(variational_parameters))\n",
    "    print(\"Iteration: \", iteration, \" \\t Loss: \",  loss(variational_parameters))\n",
    "    iteration += 1\n",
    "\n",
    "\n",
    "res = scipy.optimize.minimize(loss, x0=np.random.uniform(0, 2*np.pi, num_layers*num_qubits), \n",
    "                                method = 'SLSQP', callback=callback,\n",
    "                                options={'maxiter': 200, 'ftol': 1e-06, 'iprint': 1, 'disp': True, \n",
    "                                'eps': 1.4901161193847656e-08, 'finite_diff_rel_step': None})\n",
    "\n",
    "res"
   ]
  },
  {
   "cell_type": "markdown",
   "metadata": {},
   "source": [
    "## Testing "
   ]
  },
  {
   "cell_type": "code",
   "execution_count": 63,
   "metadata": {},
   "outputs": [
    {
     "name": "stdout",
     "output_type": "stream",
     "text": [
      "Sample: 0 \t Inference:  True\n",
      "Sample: 1 \t Inference:  True\n",
      "Sample: 2 \t Inference:  True\n",
      "Sample: 3 \t Inference:  True\n",
      "Sample: 4 \t Inference:  True\n",
      "Sample: 5 \t Inference:  True\n",
      "Sample: 6 \t Inference:  True\n",
      "Sample: 7 \t Inference:  True\n",
      "Sample: 8 \t Inference:  False  - Misclassified\n",
      "Sample: 9 \t Inference:  True\n",
      "Sample: 10 \t Inference:  True\n",
      "Sample: 11 \t Inference:  True\n",
      "Sample: 12 \t Inference:  True\n",
      "Sample: 13 \t Inference:  True\n",
      "Sample: 14 \t Inference:  True\n",
      "Sample: 15 \t Inference:  True\n",
      "Sample: 16 \t Inference:  True\n",
      "Sample: 17 \t Inference:  True\n",
      "Sample: 18 \t Inference:  True\n",
      "Sample: 19 \t Inference:  True\n",
      "Sample: 20 \t Inference:  True\n",
      "Sample: 21 \t Inference:  True\n",
      "Sample: 22 \t Inference:  True\n",
      "Sample: 23 \t Inference:  True\n",
      "Sample: 24 \t Inference:  True\n",
      "Sample: 25 \t Inference:  True\n",
      "Sample: 26 \t Inference:  True\n",
      "Sample: 27 \t Inference:  True\n",
      "Sample: 28 \t Inference:  True\n",
      "Sample: 29 \t Inference:  True\n",
      "\n",
      " \n",
      " \n",
      " Accuracy:  0.9666666666666667\n"
     ]
    }
   ],
   "source": [
    "def testing():\n",
    "    trues = []\n",
    "    for i, y_data in enumerate(testing_labels):\n",
    "\n",
    "        circuit = Program()\n",
    "        v = testing_features.iloc[i].to_numpy()\n",
    "        qbits = circuit.qalloc(len(v))\n",
    "\n",
    "        #create subcircuits\n",
    "        encoding = data_embedding(x=v)\n",
    "        #trained ansatz\n",
    "        variational = ansatz(res['x'], feature_len=len(v), num_layers=num_layers)\n",
    "\n",
    "        #adding subcircuits into main circuit\n",
    "        encoding(qbits)\n",
    "        variational(qbits)\n",
    "        \n",
    "        qc = circuit.to_circ()\n",
    "        job = qc.to_job()\n",
    "        result = get_default_qpu().submit(job)\n",
    "\n",
    "        meas = {}\n",
    "        for sample in result:\n",
    "            meas[sample._state] = sample.probability\n",
    "\n",
    "        #testing\n",
    "        estimator_0 = meas[2]+meas[3]+meas[4]\n",
    "        estimator_1 = meas[5]+meas[6]+meas[7]\n",
    "        estimator_2 = meas[8]+meas[9]+meas[10]\n",
    "\n",
    "        irislabels = [estimator_0, estimator_1, estimator_2]\n",
    "\n",
    "\n",
    "        if (twohotencoding_testing[i]==3 and estimator_0 > estimator_1 and estimator_0 > estimator_2):\n",
    "            trues.append(1)\n",
    "            print(f\"Sample: {i} \\t Inference: \", True)\n",
    "        elif (twohotencoding_testing[i]==6 and estimator_1 > estimator_0 and estimator_1 > estimator_2):\n",
    "            trues.append(1)\n",
    "            print(f\"Sample: {i} \\t Inference: \", True)\n",
    "        elif (twohotencoding_testing[i]==9 and estimator_2 > estimator_0 and estimator_2 > estimator_1):\n",
    "            trues.append(1)\n",
    "            print(f\"Sample: {i} \\t Inference: \", True)\n",
    "        else:\n",
    "            print(f\"Sample: {i} \\t Inference: \", False, \" - Misclassified\")\n",
    "\n",
    "    return trues\n",
    "\n",
    "\n",
    "print('\\n \\n \\n Accuracy: ', len(testing())/len(testing_labels))"
   ]
  },
  {
   "cell_type": "code",
   "execution_count": 64,
   "metadata": {},
   "outputs": [
    {
     "data": {
      "image/png": "[encoded data removed]",
      "text/plain": [
       "<Figure size 432x288 with 1 Axes>"
      ]
     },
     "metadata": {
      "needs_background": "light"
     },
     "output_type": "display_data"
    }
   ],
   "source": [
    "import matplotlib.pyplot as plt\n",
    "plt.plot(convergence)\n",
    "plt.xlabel(\"Epoch\")\n",
    "plt.ylabel(\"Loss value\")\n",
    "plt.grid()\n"
   ]
  },
  {
   "cell_type": "code",
   "execution_count": 65,
   "metadata": {},
   "outputs": [
    {
     "name": "stdout",
     "output_type": "stream",
     "text": [
      " A total of 30 testing samples were used and 28 were classified correctly.\n"
     ]
    }
   ],
   "source": [
    "print(f\" A total of {testing_data.shape[0]} testing samples were used and {len(testing())} were classified correctly.\")"
   ]
  }
 ],
 "metadata": {
  "kernelspec": {
   "display_name": "Python 3.9.7 ('base')",
   "language": "python",
   "name": "python3"
  },
  "language_info": {
   "codemirror_mode": {
    "name": "ipython",
    "version": 3
   },
   "file_extension": ".py",
   "mimetype": "text/x-python",
   "name": "python",
   "nbconvert_exporter": "python",
   "pygments_lexer": "ipython3",
   "version": "3.9.7"
  },
  "orig_nbformat": 4,
  "vscode": {
   "interpreter": {
    "hash": "445da9f97fff3e9607fce724e9f5124fca1a39a333bfa2bf5db6a7377ace2fc6"
   }
  }
 },
 "nbformat": 4,
 "nbformat_minor": 2
}
