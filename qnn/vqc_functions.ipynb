{
 "cells": [
  {
   "cell_type": "code",
   "execution_count": 1,
   "metadata": {},
   "outputs": [],
   "source": [
    "import numpy as np\n",
    "#myqlm imports\n",
    "from qat.lang.AQASM import Program, H, RX, RY, RZ, Z, CNOT\n",
    "from qat.lang.AQASM import *\n",
    "from qat.qpus import get_default_qpu"
   ]
  },
  {
   "cell_type": "markdown",
   "metadata": {},
   "source": [
    "## Quantum feature map\n",
    "\n",
    "Let the attributes be $x \\in X$, where $X$ represents a non-linearly separable dataset. In order to map the data to a space where it becomes linearly separable by a hyperplane, kernel methods are used. From the mathematical definition of a kernel function, we have that $K(x,z) = \\langle \\phi(x), \\phi(z) \\rangle $, $x$ and $z$ being n-dimensional vectors. The $\\phi(x)$ function maps $x: \\mathbf{R}^n \\rightarrow \\mathbf{R}^m$, where $m$ is usually much larger than $n$. A quantum feature map is a function that strictly plays the same role such that the mapping is done using an \\textit{n}-qubit operator so the result is a vector that lives in the higher-order Hilbert space, $\\mathcal{H}$. So $x: \\mathbf{R}^n \\rightarrow \\mathcal{H}$. The quantum feature map \n",
    "\\begin{equation}\n",
    "    \\mathcal{U}_{\\Phi(x)}|0\\rangle^{\\otimes n} = |\\Phi(x)\\rangle\n",
    "\\end{equation}\n",
    "has been shown to play an important role toward the quantum advantage on supervised learning tasks on quantum computers for specifics data sets. In addition to quantum ZZ feature map used in some references, an another operator could be \n",
    "\n",
    "$$ \\mathrm{U}_{\\Phi(x)} = \\bigotimes_{i=0}^{n}RX(x_i) $$\n",
    "\n",
    "since $x$ should be normalized using min-max approach such that $x \\in \\left[0, 2\\pi\\right]$. Such quantum feature map does not produce any effect in circuit depth, remaining $d = \\mathcal{O}(1)$. In the other hand, the number o qubits scales linearly with the features vector size, remaining $n = \\mathcal{O}(|X|)$.\n",
    "\n"
   ]
  },
  {
   "cell_type": "code",
   "execution_count": 2,
   "metadata": {},
   "outputs": [],
   "source": [
    "def data_embedding(x):\n",
    "    \"\"\"\n",
    "    Args\n",
    "        x: a np.array containing normalized feature vector;\n",
    "    Outpu\n",
    "        emb: a quantum circuit that encodes the data;\n",
    "        \n",
    "    \"\"\"\n",
    "\n",
    "    emb = QRoutine()\n",
    "    wires = emb.new_wires(len(x))\n",
    "    with emb.compute():\n",
    "        for i, wire in enumerate(wires):\n",
    "            RX(x[i])(wire)\n",
    "    \n",
    "    return emb"
   ]
  },
  {
   "cell_type": "markdown",
   "metadata": {},
   "source": [
    "## Tunable ansatz\n",
    "\n",
    "The parametrized quantum circuit used in this quantum neural network is a two-local heuristic pattern using a full entangled quantum circuit. Here, the CNOT's set will be the operator $W$. The mathematical representation of a multi-layer of the ansatz is given by\n",
    "\n",
    "$$P(\\vec{\\theta}) = \\Pi_{j=1}^{L}\\bigotimes_{i=0}^{n}RY(\\theta_i)\\bigotimes_{i=0}^{n}RZ(\\theta_i) (W) \\bigotimes_{i=0}^{n}RY(\\theta_{i+n})\\bigotimes_{i=0}^{n}RZ(\\theta_{i+n})$$\n",
    "\n",
    "where $\\vec{\\theta}$ is the parameter vector analogous to the weights in a classical neural network. Such parameters are trained via classical optimizers."
   ]
  },
  {
   "cell_type": "code",
   "execution_count": 3,
   "metadata": {},
   "outputs": [],
   "source": [
    "def ansatz(params, feature_len, num_layers):\n",
    "    \"\"\"\n",
    "    Args\n",
    "        params: np.array with tunable parameters in the ansatz;\n",
    "        feature_len: a integer which is the size of feature vector (atributes);\n",
    "        num_layers: a integer which is the number of layers;\n",
    "    Outpu\n",
    "        pcirc: a quantum circuit which is the ansatz;\n",
    "        \n",
    "    \"\"\"  \n",
    "\n",
    "    pcirc = QRoutine()\n",
    "    wires = pcirc.new_wires(feature_len)\n",
    "    #writing quantum circuit for the ansatz\n",
    "    for layer in range(num_layers):\n",
    "        with pcirc.compute():\n",
    "            for i, wire in enumerate(wires):\n",
    "                RY(params[i + layer*feature_len])(wire)\n",
    "                RZ(params[i + layer*feature_len])(wire)          \n",
    "            if layer == num_layers:\n",
    "                break\n",
    "            \n",
    "            #circular entanglement\n",
    "            CNOT(wires[0], wires[1])\n",
    "            CNOT(wires[0], wires[2])\n",
    "            CNOT(wires[0], wires[3])\n",
    "            CNOT(wires[1], wires[2])\n",
    "            CNOT(wires[1], wires[3])            \n",
    "            CNOT(wires[2], wires[3])\n",
    "            \n",
    "    return pcirc"
   ]
  },
  {
   "cell_type": "code",
   "execution_count": null,
   "metadata": {},
   "outputs": [],
   "source": []
  }
 ],
 "metadata": {
  "kernelspec": {
   "display_name": "Python 3.9.7 ('base')",
   "language": "python",
   "name": "python3"
  },
  "language_info": {
   "codemirror_mode": {
    "name": "ipython",
    "version": 3
   },
   "file_extension": ".py",
   "mimetype": "text/x-python",
   "name": "python",
   "nbconvert_exporter": "python",
   "pygments_lexer": "ipython3",
   "version": "3.9.7"
  },
  "orig_nbformat": 4,
  "vscode": {
   "interpreter": {
    "hash": "445da9f97fff3e9607fce724e9f5124fca1a39a333bfa2bf5db6a7377ace2fc6"
   }
  }
 },
 "nbformat": 4,
 "nbformat_minor": 2
}
